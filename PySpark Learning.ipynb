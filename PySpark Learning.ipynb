{
 "cells": [
  {
   "cell_type": "markdown",
   "id": "24aea1b2",
   "metadata": {},
   "source": [
    "# PySpark Learning "
   ]
  },
  {
   "cell_type": "code",
   "execution_count": 1,
   "id": "fe2ee61f",
   "metadata": {},
   "outputs": [
    {
     "name": "stdout",
     "output_type": "stream",
     "text": [
      "Collecting pyspark\n",
      "  Downloading pyspark-3.3.1.tar.gz (281.4 MB)\n",
      "\u001b[K     |████████████████████████████████| 281.4 MB 1.0 MB/s eta 0:00:0101     |██████████████████████████████▎ | 266.0 MB 1.1 MB/s eta 0:00:15\n",
      "\u001b[?25hCollecting py4j==0.10.9.5\n",
      "  Downloading py4j-0.10.9.5-py2.py3-none-any.whl (199 kB)\n",
      "\u001b[K     |████████████████████████████████| 199 kB 43.4 MB/s eta 0:00:01\n",
      "\u001b[?25hBuilding wheels for collected packages: pyspark\n",
      "  Building wheel for pyspark (setup.py) ... \u001b[?25ldone\n",
      "\u001b[?25h  Created wheel for pyspark: filename=pyspark-3.3.1-py2.py3-none-any.whl size=281845513 sha256=026dda9730e4a1d43a21cff954f7c16280ca77b1d27ee2282bf612e754cd70b4\n",
      "  Stored in directory: /Users/pardeepsingh/Library/Caches/pip/wheels/51/c8/18/298a4ced8ebb3ab8a7d26a7198c0cc7035abb906bde94a4c4b\n",
      "Successfully built pyspark\n",
      "Installing collected packages: py4j, pyspark\n",
      "Successfully installed py4j-0.10.9.5 pyspark-3.3.1\n"
     ]
    }
   ],
   "source": [
    "!pip install pyspark"
   ]
  },
  {
   "cell_type": "code",
   "execution_count": 1,
   "id": "ec0f2901",
   "metadata": {},
   "outputs": [],
   "source": [
    "import pyspark"
   ]
  },
  {
   "cell_type": "code",
   "execution_count": 2,
   "id": "0247a216",
   "metadata": {},
   "outputs": [],
   "source": [
    "import pandas as pd\n",
    "data = pd.read_csv(\"test1.csv\")"
   ]
  },
  {
   "cell_type": "code",
   "execution_count": 3,
   "id": "33451786",
   "metadata": {},
   "outputs": [
    {
     "data": {
      "text/html": [
       "<div>\n",
       "<style scoped>\n",
       "    .dataframe tbody tr th:only-of-type {\n",
       "        vertical-align: middle;\n",
       "    }\n",
       "\n",
       "    .dataframe tbody tr th {\n",
       "        vertical-align: top;\n",
       "    }\n",
       "\n",
       "    .dataframe thead th {\n",
       "        text-align: right;\n",
       "    }\n",
       "</style>\n",
       "<table border=\"1\" class=\"dataframe\">\n",
       "  <thead>\n",
       "    <tr style=\"text-align: right;\">\n",
       "      <th></th>\n",
       "      <th>Name</th>\n",
       "      <th>Age</th>\n",
       "      <th>Experience</th>\n",
       "    </tr>\n",
       "  </thead>\n",
       "  <tbody>\n",
       "    <tr>\n",
       "      <th>0</th>\n",
       "      <td>Pardeep</td>\n",
       "      <td>23</td>\n",
       "      <td>10</td>\n",
       "    </tr>\n",
       "    <tr>\n",
       "      <th>1</th>\n",
       "      <td>Jasmeet</td>\n",
       "      <td>24</td>\n",
       "      <td>9</td>\n",
       "    </tr>\n",
       "    <tr>\n",
       "      <th>2</th>\n",
       "      <td>Gurkirat</td>\n",
       "      <td>15</td>\n",
       "      <td>2</td>\n",
       "    </tr>\n",
       "    <tr>\n",
       "      <th>3</th>\n",
       "      <td>Shivjeet</td>\n",
       "      <td>23</td>\n",
       "      <td>4</td>\n",
       "    </tr>\n",
       "  </tbody>\n",
       "</table>\n",
       "</div>"
      ],
      "text/plain": [
       "       Name  Age  Experience\n",
       "0   Pardeep   23          10\n",
       "1   Jasmeet   24           9\n",
       "2  Gurkirat   15           2\n",
       "3  Shivjeet   23           4"
      ]
     },
     "execution_count": 3,
     "metadata": {},
     "output_type": "execute_result"
    }
   ],
   "source": [
    "data"
   ]
  },
  {
   "cell_type": "markdown",
   "id": "18b8f6af",
   "metadata": {},
   "source": [
    "# TO START SPARK SESSION"
   ]
  },
  {
   "cell_type": "code",
   "execution_count": 4,
   "id": "f9d27db7",
   "metadata": {},
   "outputs": [],
   "source": [
    "#IMPORT LIBRARY FIRST\n",
    "\n",
    "from pyspark.sql import SparkSession"
   ]
  },
  {
   "cell_type": "code",
   "execution_count": 5,
   "id": "85aec0fa",
   "metadata": {},
   "outputs": [
    {
     "name": "stdout",
     "output_type": "stream",
     "text": [
      "22/11/13 19:15:02 WARN Utils: Your hostname, Pardeeps-MacBook-Pro.local resolves to a loopback address: 127.0.0.1; using 10.0.0.48 instead (on interface en0)\n",
      "22/11/13 19:15:02 WARN Utils: Set SPARK_LOCAL_IP if you need to bind to another address\n"
     ]
    },
    {
     "name": "stderr",
     "output_type": "stream",
     "text": [
      "Setting default log level to \"WARN\".\n",
      "To adjust logging level use sc.setLogLevel(newLevel). For SparkR, use setLogLevel(newLevel).\n"
     ]
    },
    {
     "name": "stdout",
     "output_type": "stream",
     "text": [
      "22/11/13 19:15:03 WARN NativeCodeLoader: Unable to load native-hadoop library for your platform... using builtin-java classes where applicable\n"
     ]
    }
   ],
   "source": [
    "#Start session by defining name of the session\n",
    "\n",
    "# syntax:  var name = SparkSession.builder.appName(\"Name of the session\").getOrCreate()\n",
    "\n",
    "spark = SparkSession.builder.appName(\"Practice\").getOrCreate()\n"
   ]
  },
  {
   "cell_type": "code",
   "execution_count": 6,
   "id": "f9eda04e",
   "metadata": {
    "scrolled": true
   },
   "outputs": [
    {
     "data": {
      "text/html": [
       "\n",
       "            <div>\n",
       "                <p><b>SparkSession - in-memory</b></p>\n",
       "                \n",
       "        <div>\n",
       "            <p><b>SparkContext</b></p>\n",
       "\n",
       "            <p><a href=\"http://10.0.0.48:4040\">Spark UI</a></p>\n",
       "\n",
       "            <dl>\n",
       "              <dt>Version</dt>\n",
       "                <dd><code>v3.3.1</code></dd>\n",
       "              <dt>Master</dt>\n",
       "                <dd><code>local[*]</code></dd>\n",
       "              <dt>AppName</dt>\n",
       "                <dd><code>Practice</code></dd>\n",
       "            </dl>\n",
       "        </div>\n",
       "        \n",
       "            </div>\n",
       "        "
      ],
      "text/plain": [
       "<pyspark.sql.session.SparkSession at 0x7f7870105490>"
      ]
     },
     "execution_count": 6,
     "metadata": {},
     "output_type": "execute_result"
    }
   ],
   "source": [
    "spark"
   ]
  },
  {
   "cell_type": "markdown",
   "id": "fffdd3dd",
   "metadata": {},
   "source": [
    "# reading data and setting headers using options\n",
    "\n",
    "There are multiple ways to read data and some of them are:"
   ]
  },
  {
   "cell_type": "code",
   "execution_count": 7,
   "id": "125bde92",
   "metadata": {},
   "outputs": [
    {
     "name": "stdout",
     "output_type": "stream",
     "text": [
      "+--------+---+----------+\n",
      "|    Name|Age|Experience|\n",
      "+--------+---+----------+\n",
      "| Pardeep| 23|        10|\n",
      "| Jasmeet| 24|         9|\n",
      "|Gurkirat| 15|         2|\n",
      "|Shivjeet| 23|         4|\n",
      "+--------+---+----------+\n",
      "\n"
     ]
    }
   ],
   "source": [
    "# Method 1\n",
    "df_pyspark = spark.read.option('header','true').csv('test1.csv')\n",
    "df_pyspark.show()"
   ]
  },
  {
   "cell_type": "code",
   "execution_count": 8,
   "id": "926cc480",
   "metadata": {},
   "outputs": [
    {
     "name": "stdout",
     "output_type": "stream",
     "text": [
      "+--------+---+----------+\n",
      "|    Name|Age|Experience|\n",
      "+--------+---+----------+\n",
      "| Pardeep| 23|        10|\n",
      "| Jasmeet| 24|         9|\n",
      "|Gurkirat| 15|         2|\n",
      "|Shivjeet| 23|         4|\n",
      "+--------+---+----------+\n",
      "\n"
     ]
    }
   ],
   "source": [
    "# Method 2\n",
    "# inferSchema is being used to automatically detect the datatype of the column\n",
    "\n",
    "df_pyspark = spark.read.csv(\"test1.csv\", header= True, inferSchema= True)\n",
    "df_pyspark.show()"
   ]
  },
  {
   "cell_type": "markdown",
   "id": "f3fd931c",
   "metadata": {},
   "source": [
    "# to view the schema of df"
   ]
  },
  {
   "cell_type": "code",
   "execution_count": 9,
   "id": "3afc6a9c",
   "metadata": {},
   "outputs": [
    {
     "name": "stdout",
     "output_type": "stream",
     "text": [
      "root\n",
      " |-- Name: string (nullable = true)\n",
      " |-- Age: integer (nullable = true)\n",
      " |-- Experience: integer (nullable = true)\n",
      "\n"
     ]
    }
   ],
   "source": [
    "df_pyspark.printSchema()"
   ]
  },
  {
   "cell_type": "markdown",
   "id": "fa1a92ce",
   "metadata": {},
   "source": [
    "## to get column names from dataframe"
   ]
  },
  {
   "cell_type": "code",
   "execution_count": 10,
   "id": "7eec4125",
   "metadata": {},
   "outputs": [
    {
     "data": {
      "text/plain": [
       "['Name', 'Age', 'Experience']"
      ]
     },
     "execution_count": 10,
     "metadata": {},
     "output_type": "execute_result"
    }
   ],
   "source": [
    "df_pyspark.columns"
   ]
  },
  {
   "cell_type": "markdown",
   "id": "d8f3047b",
   "metadata": {},
   "source": [
    "## selecting multiple columns instead of complete dataset"
   ]
  },
  {
   "cell_type": "code",
   "execution_count": 11,
   "id": "2fdd8949",
   "metadata": {},
   "outputs": [
    {
     "name": "stdout",
     "output_type": "stream",
     "text": [
      "+--------+\n",
      "|    Name|\n",
      "+--------+\n",
      "| Pardeep|\n",
      "| Jasmeet|\n",
      "|Gurkirat|\n",
      "|Shivjeet|\n",
      "+--------+\n",
      "\n"
     ]
    }
   ],
   "source": [
    "# selecting only one particular column\n",
    "name_column = df_pyspark.select(\"Name\")\n",
    "name_column.show()"
   ]
  },
  {
   "cell_type": "code",
   "execution_count": 12,
   "id": "b118290d",
   "metadata": {},
   "outputs": [
    {
     "name": "stdout",
     "output_type": "stream",
     "text": [
      "+--------+----------+\n",
      "|    Name|Experience|\n",
      "+--------+----------+\n",
      "| Pardeep|        10|\n",
      "| Jasmeet|         9|\n",
      "|Gurkirat|         2|\n",
      "|Shivjeet|         4|\n",
      "+--------+----------+\n",
      "\n"
     ]
    }
   ],
   "source": [
    "# selecting multiple columns\n",
    "\n",
    "multiple_columns = df_pyspark.select(['Name','Experience'])\n",
    "multiple_columns.show()"
   ]
  },
  {
   "cell_type": "markdown",
   "id": "d5eecc2a",
   "metadata": {},
   "source": [
    "## to check data types"
   ]
  },
  {
   "cell_type": "code",
   "execution_count": 13,
   "id": "68b6c7d2",
   "metadata": {},
   "outputs": [
    {
     "data": {
      "text/plain": [
       "[('Name', 'string'), ('Age', 'int'), ('Experience', 'int')]"
      ]
     },
     "execution_count": 13,
     "metadata": {},
     "output_type": "execute_result"
    }
   ],
   "source": [
    "df_pyspark.dtypes"
   ]
  },
  {
   "cell_type": "markdown",
   "id": "e066ce6a",
   "metadata": {},
   "source": [
    "## to check mean, std deviation, count, min or max operations"
   ]
  },
  {
   "cell_type": "code",
   "execution_count": 14,
   "id": "1a1312ac",
   "metadata": {},
   "outputs": [
    {
     "name": "stdout",
     "output_type": "stream",
     "text": [
      "+-------+--------+-----------------+------------------+\n",
      "|summary|    Name|              Age|        Experience|\n",
      "+-------+--------+-----------------+------------------+\n",
      "|  count|       4|                4|                 4|\n",
      "|   mean|    null|            21.25|              6.25|\n",
      "| stddev|    null|4.193248541803041|3.8622100754188224|\n",
      "|    min|Gurkirat|               15|                 2|\n",
      "|    max|Shivjeet|               24|                10|\n",
      "+-------+--------+-----------------+------------------+\n",
      "\n"
     ]
    }
   ],
   "source": [
    "df_pyspark.describe().show()"
   ]
  },
  {
   "cell_type": "markdown",
   "id": "432aebc3",
   "metadata": {},
   "source": [
    "## adding new column"
   ]
  },
  {
   "cell_type": "code",
   "execution_count": 15,
   "id": "ecdd2a97",
   "metadata": {},
   "outputs": [],
   "source": [
    "## adding new column based on existing column\n",
    "\n",
    "df_pyspark = df_pyspark.withColumn('Experience after 2 years', df_pyspark['Experience']+2,)"
   ]
  },
  {
   "cell_type": "code",
   "execution_count": 16,
   "id": "064d4fbd",
   "metadata": {},
   "outputs": [
    {
     "name": "stdout",
     "output_type": "stream",
     "text": [
      "+--------+---+----------+------------------------+\n",
      "|    Name|Age|Experience|Experience after 2 years|\n",
      "+--------+---+----------+------------------------+\n",
      "| Pardeep| 23|        10|                      12|\n",
      "| Jasmeet| 24|         9|                      11|\n",
      "|Gurkirat| 15|         2|                       4|\n",
      "|Shivjeet| 23|         4|                       6|\n",
      "+--------+---+----------+------------------------+\n",
      "\n"
     ]
    }
   ],
   "source": [
    "df_pyspark.show()"
   ]
  },
  {
   "cell_type": "markdown",
   "id": "49e0ec55",
   "metadata": {},
   "source": [
    "## drop column"
   ]
  },
  {
   "cell_type": "code",
   "execution_count": 17,
   "id": "c7e95b99",
   "metadata": {},
   "outputs": [
    {
     "name": "stdout",
     "output_type": "stream",
     "text": [
      "+--------+---+----------+\n",
      "|    Name|Age|Experience|\n",
      "+--------+---+----------+\n",
      "| Pardeep| 23|        10|\n",
      "| Jasmeet| 24|         9|\n",
      "|Gurkirat| 15|         2|\n",
      "|Shivjeet| 23|         4|\n",
      "+--------+---+----------+\n",
      "\n"
     ]
    }
   ],
   "source": [
    "df_pyspark = df_pyspark.drop('Experience after 2 years')\n",
    "df_pyspark.show()"
   ]
  },
  {
   "cell_type": "markdown",
   "id": "9b8dbc98",
   "metadata": {},
   "source": [
    "# rename the column"
   ]
  },
  {
   "cell_type": "code",
   "execution_count": 18,
   "id": "c4f2572c",
   "metadata": {},
   "outputs": [],
   "source": [
    "df_pyspark = df_pyspark.withColumnRenamed(\"Name\",\"Names\")\n"
   ]
  },
  {
   "cell_type": "markdown",
   "id": "e5d38016",
   "metadata": {},
   "source": [
    "# Handling Missing Values"
   ]
  },
  {
   "cell_type": "markdown",
   "id": "64c5b431",
   "metadata": {},
   "source": [
    "In pyspark as pandas or numpy, missing values can be handled by following approaches:\n",
    "1. Dropping columns\n",
    "2. Dropping rows\n",
    "3. Various Parameter in dropping functionalities\n",
    "4. Handling Missing values by Mean, Median or Mode."
   ]
  },
  {
   "cell_type": "code",
   "execution_count": 20,
   "id": "521d6cdc",
   "metadata": {},
   "outputs": [],
   "source": [
    "from pyspark.sql import SparkSession\n",
    "\n",
    "spark = SparkSession.builder.appName(\"Practice\").getOrCreate()"
   ]
  },
  {
   "cell_type": "code",
   "execution_count": 21,
   "id": "4e431f33",
   "metadata": {},
   "outputs": [
    {
     "name": "stdout",
     "output_type": "stream",
     "text": [
      "+--------+----+----------+------+\n",
      "|    Name| Age|Experience|Salary|\n",
      "+--------+----+----------+------+\n",
      "| Pardeep|  23|        10| 10000|\n",
      "| Jasmeet|  24|         9|  4000|\n",
      "|Gurkirat|  15|         2|  5000|\n",
      "|Shivjeet|  23|         4|  9000|\n",
      "|  Ranjit|null|         3|  7000|\n",
      "|    null|  33|      null| 45000|\n",
      "| Navneet|null|      null|  8000|\n",
      "+--------+----+----------+------+\n",
      "\n"
     ]
    }
   ],
   "source": [
    "\n",
    "df_pyspark = spark.read.csv(\"test1.csv\", header= True, inferSchema= True)\n",
    "df_pyspark.show()"
   ]
  },
  {
   "cell_type": "code",
   "execution_count": 22,
   "id": "cda50ff6",
   "metadata": {},
   "outputs": [
    {
     "name": "stdout",
     "output_type": "stream",
     "text": [
      "+----+----------+------+\n",
      "| Age|Experience|Salary|\n",
      "+----+----------+------+\n",
      "|  23|        10| 10000|\n",
      "|  24|         9|  4000|\n",
      "|  15|         2|  5000|\n",
      "|  23|         4|  9000|\n",
      "|null|         3|  7000|\n",
      "|  33|      null| 45000|\n",
      "|null|      null|  8000|\n",
      "+----+----------+------+\n",
      "\n"
     ]
    }
   ],
   "source": [
    "# Dropping columns\n",
    "\n",
    "df_pyspark.drop('Name').show()"
   ]
  },
  {
   "cell_type": "code",
   "execution_count": 23,
   "id": "cd432d0e",
   "metadata": {},
   "outputs": [
    {
     "name": "stdout",
     "output_type": "stream",
     "text": [
      "+--------+---+----------+------+\n",
      "|    Name|Age|Experience|Salary|\n",
      "+--------+---+----------+------+\n",
      "| Pardeep| 23|        10| 10000|\n",
      "| Jasmeet| 24|         9|  4000|\n",
      "|Gurkirat| 15|         2|  5000|\n",
      "|Shivjeet| 23|         4|  9000|\n",
      "+--------+---+----------+------+\n",
      "\n"
     ]
    }
   ],
   "source": [
    "# dropping rows\n",
    "\n",
    "df_pyspark.na.drop().show()"
   ]
  },
  {
   "cell_type": "markdown",
   "id": "2adcf217",
   "metadata": {},
   "source": [
    ".na.drop() has three parameters which are  <b>how, thresh and subset </b> They have different functionalities. Please see the examples below"
   ]
  },
  {
   "cell_type": "code",
   "execution_count": 25,
   "id": "ca7e15bb",
   "metadata": {},
   "outputs": [
    {
     "name": "stdout",
     "output_type": "stream",
     "text": [
      "+--------+----+----------+------+\n",
      "|    Name| Age|Experience|Salary|\n",
      "+--------+----+----------+------+\n",
      "| Pardeep|  23|        10| 10000|\n",
      "| Jasmeet|  24|         9|  4000|\n",
      "|Gurkirat|  15|         2|  5000|\n",
      "|Shivjeet|  23|         4|  9000|\n",
      "|  Ranjit|null|         3|  7000|\n",
      "|    null|  33|      null| 45000|\n",
      "| Navneet|null|      null|  8000|\n",
      "+--------+----+----------+------+\n",
      "\n"
     ]
    }
   ],
   "source": [
    "## using how = all\n",
    "## by default how is any\n",
    "\n",
    "# the difference is that when how is all it will only delete the rows which are entirely null, however if there is a e\n",
    "#even single value for that particular row it wont be dropped. Same as pandas dataframe\n",
    "\n",
    "\n",
    "df_pyspark.na.drop(how='all').show()"
   ]
  },
  {
   "cell_type": "code",
   "execution_count": 26,
   "id": "c04fa314",
   "metadata": {},
   "outputs": [],
   "source": [
    "# as we can see that it has null values because we dont have any row where all the values are null"
   ]
  },
  {
   "cell_type": "code",
   "execution_count": 33,
   "id": "40bf4ea4",
   "metadata": {},
   "outputs": [
    {
     "name": "stdout",
     "output_type": "stream",
     "text": [
      "+--------+----+----------+------+\n",
      "|    Name| Age|Experience|Salary|\n",
      "+--------+----+----------+------+\n",
      "| Pardeep|  23|        10| 10000|\n",
      "| Jasmeet|  24|         9|  4000|\n",
      "|Gurkirat|  15|         2|  5000|\n",
      "|Shivjeet|  23|         4|  9000|\n",
      "|  Ranjit|null|         3|  7000|\n",
      "+--------+----+----------+------+\n",
      "\n"
     ]
    }
   ],
   "source": [
    "## using thresh as parameter\n",
    "\n",
    "df_pyspark.na.drop(thresh= 3).show()"
   ]
  },
  {
   "cell_type": "code",
   "execution_count": 34,
   "id": "fa4562ef",
   "metadata": {},
   "outputs": [],
   "source": [
    "# when we set thresh in parameter, it check if rows has provided number of non null values, if it does not it will\n",
    "#drop the row.\n",
    "\n",
    "# in example above, we kept the rows where there were atleast values were non null and anything below that was dropped"
   ]
  },
  {
   "cell_type": "code",
   "execution_count": 35,
   "id": "bd508513",
   "metadata": {},
   "outputs": [
    {
     "name": "stdout",
     "output_type": "stream",
     "text": [
      "+--------+---+----------+------+\n",
      "|    Name|Age|Experience|Salary|\n",
      "+--------+---+----------+------+\n",
      "| Pardeep| 23|        10| 10000|\n",
      "| Jasmeet| 24|         9|  4000|\n",
      "|Gurkirat| 15|         2|  5000|\n",
      "|Shivjeet| 23|         4|  9000|\n",
      "|    null| 33|      null| 45000|\n",
      "+--------+---+----------+------+\n",
      "\n"
     ]
    }
   ],
   "source": [
    "\n",
    "## subset\n",
    "\n",
    "#subset is used to drop rows based on particular column. For example if there are null values in age, it will remove those rows\n",
    "\n",
    "df_pyspark.na.drop(subset=['Age']).show()"
   ]
  },
  {
   "cell_type": "code",
   "execution_count": 36,
   "id": "427032af",
   "metadata": {},
   "outputs": [],
   "source": [
    "# as we can see that it has only removed records where age was null"
   ]
  },
  {
   "cell_type": "code",
   "execution_count": 41,
   "id": "4bfbb8fc",
   "metadata": {},
   "outputs": [
    {
     "name": "stdout",
     "output_type": "stream",
     "text": [
      "+-------------+----+----------+------+\n",
      "|         Name| Age|Experience|Salary|\n",
      "+-------------+----+----------+------+\n",
      "|      Pardeep|  23|        10| 10000|\n",
      "|      Jasmeet|  24|         9|  4000|\n",
      "|     Gurkirat|  15|         2|  5000|\n",
      "|     Shivjeet|  23|         4|  9000|\n",
      "|       Ranjit|null|         3|  7000|\n",
      "|Missing Value|  33|      null| 45000|\n",
      "|      Navneet|null|      null|  8000|\n",
      "+-------------+----+----------+------+\n",
      "\n"
     ]
    }
   ],
   "source": [
    "## Filling with missing values\n",
    "\n",
    "df_pyspark.na.fill('Missing Value', 'Name').show()\n",
    "\n",
    "# in the following df we can see that the data frame has replaced null value for Name, however Missing value \n",
    "# is a string so it did not worked for another columns because of different dataset.\n",
    "\n"
   ]
  },
  {
   "cell_type": "code",
   "execution_count": 42,
   "id": "ea765a9c",
   "metadata": {},
   "outputs": [],
   "source": [
    "### replacing null values with mean, median or mode\n",
    "\n",
    "## Imputer function is being used for this as SQL\n",
    "\n",
    "\n",
    "from pyspark.ml.feature import Imputer\n",
    "\n",
    "imputer = Imputer(\n",
    "        \n",
    "        inputCols=['Age', 'Experience', 'Salary'],\n",
    "        outputCols= ['{}_imputed'.format(c) for c in ['Age', 'Experience', 'Salary']]\n",
    "        ).setStrategy(\"mean\") # here we can simply replace mean with median or mode and it will be executed.\n",
    "\n"
   ]
  },
  {
   "cell_type": "code",
   "execution_count": 44,
   "id": "56725ba5",
   "metadata": {},
   "outputs": [
    {
     "name": "stdout",
     "output_type": "stream",
     "text": [
      "+--------+----+----------+------+-----------+------------------+--------------+\n",
      "|    Name| Age|Experience|Salary|Age_imputed|Experience_imputed|Salary_imputed|\n",
      "+--------+----+----------+------+-----------+------------------+--------------+\n",
      "| Pardeep|  23|        10| 10000|         23|                10|         10000|\n",
      "| Jasmeet|  24|         9|  4000|         24|                 9|          4000|\n",
      "|Gurkirat|  15|         2|  5000|         15|                 2|          5000|\n",
      "|Shivjeet|  23|         4|  9000|         23|                 4|          9000|\n",
      "|  Ranjit|null|         3|  7000|         23|                 3|          7000|\n",
      "|    null|  33|      null| 45000|         33|                 5|         45000|\n",
      "| Navneet|null|      null|  8000|         23|                 5|          8000|\n",
      "+--------+----+----------+------+-----------+------------------+--------------+\n",
      "\n"
     ]
    }
   ],
   "source": [
    "\n",
    "imputer.fit(df_pyspark).transform(df_pyspark).show()\n",
    "\n",
    "# here we can see that we have created new imputed columns where we have used mean to replace the null values.\n"
   ]
  },
  {
   "cell_type": "markdown",
   "id": "c0355f90",
   "metadata": {},
   "source": [
    "# Filter operations"
   ]
  },
  {
   "cell_type": "code",
   "execution_count": 48,
   "id": "016e1d1d",
   "metadata": {},
   "outputs": [
    {
     "name": "stdout",
     "output_type": "stream",
     "text": [
      "+--------+----+----------+------+\n",
      "|    Name| Age|Experience|Salary|\n",
      "+--------+----+----------+------+\n",
      "| Pardeep|  23|        10| 10000|\n",
      "| Jasmeet|  24|         9|  4000|\n",
      "|Gurkirat|  15|         2|  5000|\n",
      "|Shivjeet|  23|         4|  9000|\n",
      "|  Ranjit|null|         3|  7000|\n",
      "| Navneet|null|      null|  8000|\n",
      "+--------+----+----------+------+\n",
      "\n"
     ]
    }
   ],
   "source": [
    "## filter based on condition\n",
    "df_pyspark.filter('Salary <=20000').show()"
   ]
  },
  {
   "cell_type": "code",
   "execution_count": 49,
   "id": "01bffa9f",
   "metadata": {},
   "outputs": [
    {
     "name": "stdout",
     "output_type": "stream",
     "text": [
      "+--------+----+\n",
      "|    Name| Age|\n",
      "+--------+----+\n",
      "| Pardeep|  23|\n",
      "| Jasmeet|  24|\n",
      "|Gurkirat|  15|\n",
      "|Shivjeet|  23|\n",
      "|  Ranjit|null|\n",
      "| Navneet|null|\n",
      "+--------+----+\n",
      "\n"
     ]
    }
   ],
   "source": [
    "## displaying only particular columns based on condition\n",
    "\n",
    "df_pyspark.filter('Salary <=20000').select(['Name','Age']).show()"
   ]
  },
  {
   "cell_type": "code",
   "execution_count": null,
   "id": "69fa486e",
   "metadata": {},
   "outputs": [],
   "source": []
  }
 ],
 "metadata": {
  "kernelspec": {
   "display_name": "Python 3 (ipykernel)",
   "language": "python",
   "name": "python3"
  },
  "language_info": {
   "codemirror_mode": {
    "name": "ipython",
    "version": 3
   },
   "file_extension": ".py",
   "mimetype": "text/x-python",
   "name": "python",
   "nbconvert_exporter": "python",
   "pygments_lexer": "ipython3",
   "version": "3.9.7"
  }
 },
 "nbformat": 4,
 "nbformat_minor": 5
}
