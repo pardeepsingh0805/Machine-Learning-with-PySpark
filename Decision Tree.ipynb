{
 "cells": [
  {
   "cell_type": "markdown",
   "id": "0bf2a43e",
   "metadata": {},
   "source": [
    "## Decission Tree"
   ]
  },
  {
   "cell_type": "code",
   "execution_count": 4,
   "id": "ec6f53de",
   "metadata": {},
   "outputs": [],
   "source": [
    "## using pandas to check the data\n",
    "import pandas as pd\n",
    "import numpy as np\n"
   ]
  },
  {
   "cell_type": "code",
   "execution_count": 6,
   "id": "2671fbbf",
   "metadata": {},
   "outputs": [
    {
     "name": "stdout",
     "output_type": "stream",
     "text": [
      "<class 'pandas.core.frame.DataFrame'>\n",
      "RangeIndex: 683 entries, 0 to 682\n",
      "Data columns (total 11 columns):\n",
      " #   Column             Non-Null Count  Dtype\n",
      "---  ------             --------------  -----\n",
      " 0   id                 683 non-null    int64\n",
      " 1   Clump Thickness    683 non-null    int64\n",
      " 2   UofCSize           683 non-null    int64\n",
      " 3   UofCShape          683 non-null    int64\n",
      " 4   Marginal Adhesion  683 non-null    int64\n",
      " 5   SECSize            683 non-null    int64\n",
      " 6   Bare Nuclei        683 non-null    int64\n",
      " 7   Bland Chromatin    683 non-null    int64\n",
      " 8   Normal Nucleoli    683 non-null    int64\n",
      " 9   Mitoses            683 non-null    int64\n",
      " 10  Class              683 non-null    int64\n",
      "dtypes: int64(11)\n",
      "memory usage: 58.8 KB\n"
     ]
    }
   ],
   "source": [
    "pd_data = pd.read_csv('cancer.csv')\n",
    "pd_data.info()"
   ]
  },
  {
   "cell_type": "code",
   "execution_count": 7,
   "id": "2d297291",
   "metadata": {},
   "outputs": [],
   "source": [
    "## no missign values in data "
   ]
  },
  {
   "cell_type": "code",
   "execution_count": null,
   "id": "d0f56217",
   "metadata": {},
   "outputs": [],
   "source": []
  },
  {
   "cell_type": "code",
   "execution_count": 1,
   "id": "98b5dbed",
   "metadata": {},
   "outputs": [
    {
     "name": "stdout",
     "output_type": "stream",
     "text": [
      "22/11/19 22:18:15 WARN Utils: Your hostname, Pardeeps-MacBook-Pro.local resolves to a loopback address: 127.0.0.1; using 10.0.0.48 instead (on interface en0)\n",
      "22/11/19 22:18:15 WARN Utils: Set SPARK_LOCAL_IP if you need to bind to another address\n"
     ]
    },
    {
     "name": "stderr",
     "output_type": "stream",
     "text": [
      "Setting default log level to \"WARN\".\n",
      "To adjust logging level use sc.setLogLevel(newLevel). For SparkR, use setLogLevel(newLevel).\n"
     ]
    },
    {
     "name": "stdout",
     "output_type": "stream",
     "text": [
      "22/11/19 22:18:15 WARN NativeCodeLoader: Unable to load native-hadoop library for your platform... using builtin-java classes where applicable\n"
     ]
    }
   ],
   "source": [
    "from pyspark.sql import SparkSession\n",
    "\n",
    "spark = SparkSession.builder.appName('Decission Tree').getOrCreate()"
   ]
  },
  {
   "cell_type": "code",
   "execution_count": 3,
   "id": "ab5a9a23",
   "metadata": {},
   "outputs": [
    {
     "data": {
      "text/plain": [
       "['id',\n",
       " 'Clump Thickness',\n",
       " 'UofCSize',\n",
       " 'UofCShape',\n",
       " 'Marginal Adhesion',\n",
       " 'SECSize',\n",
       " 'Bare Nuclei',\n",
       " 'Bland Chromatin',\n",
       " 'Normal Nucleoli',\n",
       " 'Mitoses',\n",
       " 'Class']"
      ]
     },
     "execution_count": 3,
     "metadata": {},
     "output_type": "execute_result"
    }
   ],
   "source": [
    "## reading data\n",
    "\n",
    "data = spark.read.csv('cancer.csv', header= True, inferSchema= True)\n",
    "data.columns"
   ]
  },
  {
   "cell_type": "code",
   "execution_count": null,
   "id": "99bf7cb9",
   "metadata": {},
   "outputs": [],
   "source": []
  },
  {
   "cell_type": "code",
   "execution_count": 8,
   "id": "5590551d",
   "metadata": {},
   "outputs": [],
   "source": [
    "## encoding class as category\n",
    "\n",
    "from pyspark.ml.feature import OneHotEncoder\n",
    "\n",
    "encoder = OneHotEncoder(inputCol='Class', outputCol='ClassEncoded')\n",
    "\n",
    "\n"
   ]
  },
  {
   "cell_type": "code",
   "execution_count": 11,
   "id": "53cc5a6a",
   "metadata": {},
   "outputs": [],
   "source": [
    "## using assembler to create features\n",
    "\n",
    "from pyspark.ml.feature import VectorAssembler\n",
    "\n",
    "assembler = VectorAssembler(inputCols=[\n",
    " 'Clump Thickness',\n",
    " 'UofCSize',\n",
    " 'UofCShape',\n",
    " 'Marginal Adhesion',\n",
    " 'SECSize',\n",
    " 'Bare Nuclei',\n",
    " 'Bland Chromatin',\n",
    " 'Normal Nucleoli',\n",
    " 'Mitoses'], outputCol= 'features')"
   ]
  },
  {
   "cell_type": "code",
   "execution_count": 12,
   "id": "3dbf7f9f",
   "metadata": {},
   "outputs": [],
   "source": []
  },
  {
   "cell_type": "code",
   "execution_count": null,
   "id": "744640e7",
   "metadata": {},
   "outputs": [],
   "source": []
  },
  {
   "cell_type": "code",
   "execution_count": null,
   "id": "a6c5b961",
   "metadata": {},
   "outputs": [],
   "source": []
  },
  {
   "cell_type": "code",
   "execution_count": 19,
   "id": "47ad7465",
   "metadata": {},
   "outputs": [],
   "source": [
    "## creating instance of decision tree\n",
    "\n",
    "from pyspark.ml.classification import DecisionTreeClassifier\n",
    "\n",
    "DT = DecisionTreeClassifier(labelCol='Class', featuresCol='features')"
   ]
  },
  {
   "cell_type": "code",
   "execution_count": 20,
   "id": "1e8b312f",
   "metadata": {},
   "outputs": [],
   "source": [
    "## creating pipelines\n",
    "\n",
    "from pyspark.ml import Pipeline\n",
    "\n",
    "pipeline = Pipeline(stages=[encoder, assembler, DT])"
   ]
  },
  {
   "cell_type": "code",
   "execution_count": null,
   "id": "06bf9d1f",
   "metadata": {},
   "outputs": [],
   "source": []
  },
  {
   "cell_type": "code",
   "execution_count": 23,
   "id": "6ac4b996",
   "metadata": {},
   "outputs": [],
   "source": [
    "### splitting data for training and testing\n",
    "\n",
    "train, test = data.randomSplit([0.7,0.3])"
   ]
  },
  {
   "cell_type": "code",
   "execution_count": 24,
   "id": "3f2821c4",
   "metadata": {},
   "outputs": [],
   "source": [
    "fit_model = pipeline.fit(train)"
   ]
  },
  {
   "cell_type": "code",
   "execution_count": 25,
   "id": "3ec348c4",
   "metadata": {},
   "outputs": [],
   "source": [
    "results = fit_model.transform(test)"
   ]
  },
  {
   "cell_type": "code",
   "execution_count": 27,
   "id": "f659f04b",
   "metadata": {},
   "outputs": [
    {
     "data": {
      "text/plain": [
       "['id',\n",
       " 'Clump Thickness',\n",
       " 'UofCSize',\n",
       " 'UofCShape',\n",
       " 'Marginal Adhesion',\n",
       " 'SECSize',\n",
       " 'Bare Nuclei',\n",
       " 'Bland Chromatin',\n",
       " 'Normal Nucleoli',\n",
       " 'Mitoses',\n",
       " 'Class',\n",
       " 'ClassEncoded',\n",
       " 'features',\n",
       " 'rawPrediction',\n",
       " 'probability',\n",
       " 'prediction']"
      ]
     },
     "execution_count": 27,
     "metadata": {},
     "output_type": "execute_result"
    }
   ],
   "source": [
    "results.columns"
   ]
  },
  {
   "cell_type": "code",
   "execution_count": 28,
   "id": "4750e2d2",
   "metadata": {},
   "outputs": [
    {
     "name": "stdout",
     "output_type": "stream",
     "text": [
      "+-----+----------+\n",
      "|Class|prediction|\n",
      "+-----+----------+\n",
      "|    2|       2.0|\n",
      "|    4|       4.0|\n",
      "|    2|       2.0|\n",
      "|    4|       4.0|\n",
      "|    4|       4.0|\n",
      "|    4|       4.0|\n",
      "|    4|       4.0|\n",
      "|    2|       2.0|\n",
      "|    2|       2.0|\n",
      "|    2|       2.0|\n",
      "|    2|       2.0|\n",
      "|    2|       2.0|\n",
      "|    4|       4.0|\n",
      "|    4|       4.0|\n",
      "|    2|       2.0|\n",
      "|    4|       2.0|\n",
      "|    2|       2.0|\n",
      "|    2|       2.0|\n",
      "|    4|       4.0|\n",
      "|    2|       2.0|\n",
      "+-----+----------+\n",
      "only showing top 20 rows\n",
      "\n"
     ]
    }
   ],
   "source": [
    "results.select(['Class', 'prediction']).show()"
   ]
  },
  {
   "cell_type": "code",
   "execution_count": 30,
   "id": "e3795fd0",
   "metadata": {},
   "outputs": [
    {
     "name": "stdout",
     "output_type": "stream",
     "text": [
      "Accuracy is 0.9601990049751243\n"
     ]
    }
   ],
   "source": [
    "## evaluating model\n",
    "\n",
    "from pyspark.ml.evaluation import MulticlassClassificationEvaluator\n",
    "\n",
    "evaluator = MulticlassClassificationEvaluator(labelCol='Class', predictionCol='prediction', metricName='accuracy')\n",
    "\n",
    "accuracy = evaluator.evaluate(results)\n",
    "print(f\"Accuracy is {accuracy}\")"
   ]
  },
  {
   "cell_type": "code",
   "execution_count": null,
   "id": "b091786a",
   "metadata": {},
   "outputs": [],
   "source": []
  }
 ],
 "metadata": {
  "kernelspec": {
   "display_name": "Python 3 (ipykernel)",
   "language": "python",
   "name": "python3"
  },
  "language_info": {
   "codemirror_mode": {
    "name": "ipython",
    "version": 3
   },
   "file_extension": ".py",
   "mimetype": "text/x-python",
   "name": "python",
   "nbconvert_exporter": "python",
   "pygments_lexer": "ipython3",
   "version": "3.9.7"
  }
 },
 "nbformat": 4,
 "nbformat_minor": 5
}
