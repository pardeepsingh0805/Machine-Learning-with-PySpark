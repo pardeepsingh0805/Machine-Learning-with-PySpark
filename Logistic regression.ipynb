{
 "cells": [
  {
   "cell_type": "code",
   "execution_count": 1,
   "id": "c7068727",
   "metadata": {},
   "outputs": [],
   "source": [
    "import pandas as pd\n",
    "import numpy as np\n",
    "from pyspark.sql import SparkSession\n"
   ]
  },
  {
   "cell_type": "code",
   "execution_count": 2,
   "id": "0672bee7",
   "metadata": {},
   "outputs": [
    {
     "name": "stdout",
     "output_type": "stream",
     "text": [
      "22/11/18 22:50:15 WARN Utils: Your hostname, Pardeeps-MacBook-Pro.local resolves to a loopback address: 127.0.0.1; using 10.0.0.48 instead (on interface en0)\n",
      "22/11/18 22:50:15 WARN Utils: Set SPARK_LOCAL_IP if you need to bind to another address\n"
     ]
    },
    {
     "name": "stderr",
     "output_type": "stream",
     "text": [
      "Setting default log level to \"WARN\".\n",
      "To adjust logging level use sc.setLogLevel(newLevel). For SparkR, use setLogLevel(newLevel).\n"
     ]
    },
    {
     "name": "stdout",
     "output_type": "stream",
     "text": [
      "22/11/18 22:50:16 WARN NativeCodeLoader: Unable to load native-hadoop library for your platform... using builtin-java classes where applicable\n",
      "22/11/18 22:50:16 WARN Utils: Service 'SparkUI' could not bind on port 4040. Attempting port 4041.\n"
     ]
    }
   ],
   "source": [
    "##starting spark session\n",
    "\n",
    "spark = SparkSession.builder.appName('Logistic').getOrCreate()\n"
   ]
  },
  {
   "cell_type": "code",
   "execution_count": 3,
   "id": "8862c319",
   "metadata": {},
   "outputs": [],
   "source": [
    "# reading dataset\n",
    "\n",
    "data = spark.read.csv('cancer.csv', header= True, inferSchema= True)"
   ]
  },
  {
   "cell_type": "code",
   "execution_count": 4,
   "id": "e4bb502a",
   "metadata": {},
   "outputs": [
    {
     "data": {
      "text/plain": [
       "['id',\n",
       " 'Clump Thickness',\n",
       " 'UofCSize',\n",
       " 'UofCShape',\n",
       " 'Marginal Adhesion',\n",
       " 'SECSize',\n",
       " 'Bare Nuclei',\n",
       " 'Bland Chromatin',\n",
       " 'Normal Nucleoli',\n",
       " 'Mitoses',\n",
       " 'Class']"
      ]
     },
     "execution_count": 4,
     "metadata": {},
     "output_type": "execute_result"
    }
   ],
   "source": [
    "data.columns"
   ]
  },
  {
   "cell_type": "code",
   "execution_count": 5,
   "id": "6878079b",
   "metadata": {},
   "outputs": [],
   "source": [
    "## assembeling data into feature\n",
    "\n",
    "from pyspark.ml.feature import VectorAssembler\n",
    "\n",
    "assembler = VectorAssembler(inputCols=['Clump Thickness',\n",
    " 'UofCSize',\n",
    " 'UofCShape',\n",
    " 'Marginal Adhesion',\n",
    " 'SECSize',\n",
    " 'Bare Nuclei',\n",
    " 'Bland Chromatin',\n",
    " 'Normal Nucleoli',\n",
    " 'Mitoses',\n",
    " 'Class'], outputCol='features')\n"
   ]
  },
  {
   "cell_type": "code",
   "execution_count": 6,
   "id": "cef962cd",
   "metadata": {},
   "outputs": [],
   "source": [
    "assembler_output = assembler.transform(data)"
   ]
  },
  {
   "cell_type": "code",
   "execution_count": 9,
   "id": "8c9524e2",
   "metadata": {},
   "outputs": [
    {
     "data": {
      "text/plain": [
       "['id',\n",
       " 'Clump Thickness',\n",
       " 'UofCSize',\n",
       " 'UofCShape',\n",
       " 'Marginal Adhesion',\n",
       " 'SECSize',\n",
       " 'Bare Nuclei',\n",
       " 'Bland Chromatin',\n",
       " 'Normal Nucleoli',\n",
       " 'Mitoses',\n",
       " 'Class',\n",
       " 'features']"
      ]
     },
     "execution_count": 9,
     "metadata": {},
     "output_type": "execute_result"
    }
   ],
   "source": [
    "assembler_output.columns"
   ]
  },
  {
   "cell_type": "code",
   "execution_count": 10,
   "id": "79289132",
   "metadata": {},
   "outputs": [],
   "source": [
    "## spliting data in test and train models\n",
    "\n",
    "train, test = assembler_output.randomSplit([0.7,0.3])"
   ]
  },
  {
   "cell_type": "code",
   "execution_count": 13,
   "id": "d2c9cf4e",
   "metadata": {},
   "outputs": [],
   "source": [
    "### setting up logistic model\n",
    "\n",
    "from pyspark.ml.classification import LogisticRegression\n",
    "logistic = LogisticRegression(labelCol='Class')\n"
   ]
  },
  {
   "cell_type": "code",
   "execution_count": 15,
   "id": "47c46487",
   "metadata": {},
   "outputs": [],
   "source": [
    "training = logistic.fit(train)"
   ]
  },
  {
   "cell_type": "code",
   "execution_count": 17,
   "id": "d605b94d",
   "metadata": {},
   "outputs": [],
   "source": [
    "trained = training.evaluate(test)"
   ]
  },
  {
   "cell_type": "code",
   "execution_count": 35,
   "id": "e4e15991",
   "metadata": {},
   "outputs": [
    {
     "data": {
      "text/plain": [
       "['id',\n",
       " 'Clump Thickness',\n",
       " 'UofCSize',\n",
       " 'UofCShape',\n",
       " 'Marginal Adhesion',\n",
       " 'SECSize',\n",
       " 'Bare Nuclei',\n",
       " 'Bland Chromatin',\n",
       " 'Normal Nucleoli',\n",
       " 'Mitoses',\n",
       " 'Class',\n",
       " 'features',\n",
       " 'rawPrediction',\n",
       " 'probability',\n",
       " 'prediction']"
      ]
     },
     "execution_count": 35,
     "metadata": {},
     "output_type": "execute_result"
    }
   ],
   "source": [
    "trained.predictions.columns"
   ]
  },
  {
   "cell_type": "code",
   "execution_count": 36,
   "id": "7c76fdd4",
   "metadata": {},
   "outputs": [
    {
     "name": "stdout",
     "output_type": "stream",
     "text": [
      "+--------------------+\n",
      "|       rawPrediction|\n",
      "+--------------------+\n",
      "|[-4.3314484278528...|\n",
      "|[-3.7078526803908...|\n",
      "|[-4.2391503085597...|\n",
      "|[-4.1111274748864...|\n",
      "|[-4.1088693377946...|\n",
      "|[-3.9040139803795...|\n",
      "|[-4.2113262392292...|\n",
      "|[-4.1010235155968...|\n",
      "|[-4.1312121009180...|\n",
      "|[-4.2301153171970...|\n",
      "|[-4.2732938731027...|\n",
      "|[-4.1165917531079...|\n",
      "|[-4.4389901207373...|\n",
      "|[-4.1888926048158...|\n",
      "|[-4.1089140002690...|\n",
      "|[-4.2280309521182...|\n",
      "|[-4.1971868857626...|\n",
      "|[-4.1010235155968...|\n",
      "|[-4.2603039025183...|\n",
      "|[-3.6865382762884...|\n",
      "+--------------------+\n",
      "only showing top 20 rows\n",
      "\n"
     ]
    }
   ],
   "source": [
    "trained.predictions.select('rawPrediction').show()"
   ]
  },
  {
   "cell_type": "markdown",
   "id": "5674924e",
   "metadata": {},
   "source": [
    "### evaluating model for accuracy\n",
    "\n",
    "from pyspark.ml.evaluation import BinaryClassificationEvaluator, MulticlassClassificationEvaluator\n"
   ]
  },
  {
   "cell_type": "markdown",
   "id": "0fb7850e",
   "metadata": {},
   "source": [
    "eval_obj = MulticlassClassificationEvaluator(labelCol='Class')"
   ]
  },
  {
   "cell_type": "markdown",
   "id": "900de0da",
   "metadata": {},
   "source": [
    "final_results = eval_obj.evaluate(trained.predictions)"
   ]
  },
  {
   "cell_type": "code",
   "execution_count": 43,
   "id": "e062a0ed",
   "metadata": {},
   "outputs": [
    {
     "name": "stdout",
     "output_type": "stream",
     "text": [
      "Accuracy is 1.0\n"
     ]
    }
   ],
   "source": [
    "from pyspark.ml.evaluation import MulticlassClassificationEvaluator\n",
    "eval = MulticlassClassificationEvaluator(labelCol='Class', predictionCol='prediction', metricName= 'accuracy')\n",
    "acc = eval.evaluate(trained.predictions)\n",
    "print(f\"Accuracy is {acc}\")"
   ]
  },
  {
   "cell_type": "code",
   "execution_count": null,
   "id": "dfc3d2cf",
   "metadata": {},
   "outputs": [],
   "source": []
  }
 ],
 "metadata": {
  "kernelspec": {
   "display_name": "Python 3 (ipykernel)",
   "language": "python",
   "name": "python3"
  },
  "language_info": {
   "codemirror_mode": {
    "name": "ipython",
    "version": 3
   },
   "file_extension": ".py",
   "mimetype": "text/x-python",
   "name": "python",
   "nbconvert_exporter": "python",
   "pygments_lexer": "ipython3",
   "version": "3.9.7"
  }
 },
 "nbformat": 4,
 "nbformat_minor": 5
}
